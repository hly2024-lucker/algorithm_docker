{
 "cells": [
  {
   "cell_type": "code",
   "execution_count": 1,
   "id": "45ef0359-28fa-4ffa-a10a-b7c752e0df57",
   "metadata": {},
   "outputs": [],
   "source": [
    "import numpy as np    #导入包  as重命名包"
   ]
  },
  {
   "cell_type": "code",
   "execution_count": 2,
   "id": "c48740f5-cc3b-4caf-9e62-4df4426c180f",
   "metadata": {},
   "outputs": [],
   "source": [
    "def objective_function(x):   #x，y  图像\n",
    "    return x[0]**2 + 2*x[0] - 15 + 4*4*2*x[1] + 4*x[1]**2   #二维，矩阵存储"
   ]
  },
  {
   "cell_type": "code",
   "execution_count": 8,
   "id": "b969d1bb-1c62-4cfc-b87d-8db4a125760a",
   "metadata": {},
   "outputs": [],
   "source": [
    "def simulated_annealing(objective_func, initial_solution = np.array([0, 0]), \\   #初始化\n",
    "                        temperature = 100, min_temperature = 0.1, \\\n",
    "                        cooling_rate = 0.90, iter_max = 100, seed = 0):\n",
    " \n",
    "    np.random.seed(seed)  #可重复性   #初始解 最好解 当前解  初始化 全局变量 \n",
    "    current_solution = initial_solution\n",
    "    best_solution = current_solution\n",
    " \n",
    "    while temperature > min_temperature:   #循环 温度\n",
    "        for j in range(iter_max):  #迭代次数\n",
    "            # 生成新的解\n",
    "            new_solution = current_solution + np.random.uniform(-1, 1, len(current_solution))  #2 #模拟粒子随机运动\n",
    "            \n",
    "            # 计算新解与当前解之间的目标函数值差异\n",
    "            current_cost = objective_func(current_solution)\n",
    "            new_cost = objective_func(new_solution)\n",
    "            cost_diff = new_cost - current_cost\n",
    "            \n",
    "            # 判断是否接受新解\n",
    "            if cost_diff < 0 or np.exp(-cost_diff / temperature) > np.random.random():    #判断 重点\n",
    "                current_solution = new_solution  #更新自变量\n",
    "            \n",
    "            # 更新最优解\n",
    "            if objective_func(current_solution) < objective_func(best_solution):\n",
    "                best_solution = current_solution\n",
    "        \n",
    "        # 降低温度\n",
    "        temperature *= cooling_rate  # temperature=temperature* cooling_rate\n",
    "    \n",
    "    return best_solution"
   ]
  },
  {
   "cell_type": "code",
   "execution_count": 9,
   "id": "16a63ea8-1a9c-47ef-9886-8b4701723db2",
   "metadata": {},
   "outputs": [
    {
     "name": "stdout",
     "output_type": "stream",
     "text": [
      "函数最小值： -79.99892537104873 自变量取值：[-0.98766919 -3.984813  ]\n"
     ]
    }
   ],
   "source": [
    "# 调用退火算法求解最小值   #主函数   目标函数 传入 退火函数 得到求解\n",
    "best_solution = simulated_annealing(objective_function)\n",
    " \n",
    "print(f\"函数最小值： {objective_function(best_solution)} 自变量取值：{best_solution}\")"
   ]
  },
  {
   "cell_type": "code",
   "execution_count": null,
   "id": "2f3929a5-dc60-4da9-ba85-db932224932d",
   "metadata": {},
   "outputs": [],
   "source": []
  },
  {
   "cell_type": "code",
   "execution_count": null,
   "id": "aef633f3-fcb6-4eb8-a0ad-7f5621f49e2f",
   "metadata": {},
   "outputs": [],
   "source": []
  },
  {
   "cell_type": "code",
   "execution_count": null,
   "id": "e18ddaea-875e-4924-9ad1-d6fe5ff847f8",
   "metadata": {},
   "outputs": [],
   "source": []
  },
  {
   "cell_type": "code",
   "execution_count": null,
   "id": "da49416a-0a28-4ded-bb6d-b3616666410b",
   "metadata": {},
   "outputs": [],
   "source": []
  }
 ],
 "metadata": {
  "kernelspec": {
   "display_name": "Python 3 (ipykernel)",
   "language": "python",
   "name": "python3"
  },
  "language_info": {
   "codemirror_mode": {
    "name": "ipython",
    "version": 3
   },
   "file_extension": ".py",
   "mimetype": "text/x-python",
   "name": "python",
   "nbconvert_exporter": "python",
   "pygments_lexer": "ipython3",
   "version": "3.11.7"
  }
 },
 "nbformat": 4,
 "nbformat_minor": 5
}
